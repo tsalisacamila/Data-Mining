{
 "cells": [
  {
   "cell_type": "markdown",
   "metadata": {},
   "source": [
    "*DATA MINING*- Tsalisa Camila - 0706022210055"
   ]
  },
  {
   "cell_type": "markdown",
   "metadata": {},
   "source": [
    "1. FAKTORIAL"
   ]
  },
  {
   "cell_type": "code",
   "execution_count": 3,
   "metadata": {},
   "outputs": [
    {
     "name": "stdout",
     "output_type": "stream",
     "text": [
      "Faktorial dari 7 adalah 5040\n"
     ]
    }
   ],
   "source": [
    "def faktorial(n):\n",
    "    if n == 0 or n == 1:\n",
    "        return 1\n",
    "    else:\n",
    "        return n * faktorial(n-1)\n",
    "\n",
    "# Contoh penggunaan\n",
    "angka = int(input(\"Masukkan angka: \"))\n",
    "hasil = faktorial(angka)\n",
    "print(f\"Faktorial dari {angka} adalah {hasil}\")\n"
   ]
  },
  {
   "cell_type": "markdown",
   "metadata": {},
   "source": [
    "2. FIBONACCI"
   ]
  },
  {
   "cell_type": "code",
   "execution_count": 5,
   "metadata": {},
   "outputs": [
    {
     "name": "stdout",
     "output_type": "stream",
     "text": [
      "Deret Fibonacci:\n",
      "0 1 1 2 3 5 8 13 "
     ]
    }
   ],
   "source": [
    "def fibonacci(n):\n",
    "    if n <= 1:\n",
    "        return n\n",
    "    else:\n",
    "        return fibonacci(n-1) + fibonacci(n-2)\n",
    "\n",
    "jumlah = int(input(\"Masukkan jumlah bilangan Fibonacci: \"))\n",
    "\n",
    "print(\"Deret Fibonacci:\")\n",
    "for i in range(jumlah):\n",
    "    print(fibonacci(i), end=\" \")\n"
   ]
  },
  {
   "cell_type": "markdown",
   "metadata": {},
   "source": [
    "3. NILAI MAKSIMUM"
   ]
  },
  {
   "cell_type": "code",
   "execution_count": 6,
   "metadata": {},
   "outputs": [
    {
     "name": "stdout",
     "output_type": "stream",
     "text": [
      "Nilai maksimum dari [3, 9, 2, 8, 4, 5] adalah 9\n"
     ]
    }
   ],
   "source": [
    "def cari_maksimum(lst):\n",
    "    if len(lst) == 1:\n",
    "        return lst[0]\n",
    "    else:\n",
    "        maks_sisa = cari_maksimum(lst[1:])\n",
    "        return lst[0] if lst[0] > maks_sisa else maks_sisa\n",
    "#contoh\n",
    "angka = [3, 9, 2, 8, 4, 5]\n",
    "hasil = cari_maksimum(angka)\n",
    "print(f\"Nilai maksimum dari {angka} adalah {hasil}\")\n"
   ]
  },
  {
   "cell_type": "markdown",
   "metadata": {},
   "source": [
    "4. SUM OF LIST"
   ]
  },
  {
   "cell_type": "code",
   "execution_count": 3,
   "metadata": {},
   "outputs": [
    {
     "name": "stdout",
     "output_type": "stream",
     "text": [
      "Jumlah dari deret angka adalah 22\n"
     ]
    }
   ],
   "source": [
    "def sum_of_list(numbers):\n",
    "    if len(numbers) == 0:\n",
    "        return 0\n",
    "    else:\n",
    "        return numbers[0] + sum_of_list(numbers[1:])\n",
    "\n",
    "numbers = list(map(int, input(\"Masukkan angka-angka yang dipisahkan dengan spasi: \").split()))\n",
    "print(f\"Jumlah dari deret angka adalah {sum_of_list(numbers)}\")\n"
   ]
  },
  {
   "cell_type": "markdown",
   "metadata": {},
   "source": [
    "5. PALINDROME"
   ]
  },
  {
   "cell_type": "code",
   "execution_count": 6,
   "metadata": {},
   "outputs": [
    {
     "name": "stdout",
     "output_type": "stream",
     "text": [
      "'kucing' bukan palindrome\n"
     ]
    }
   ],
   "source": [
    "def is_palindrome(s):\n",
    "    if len(s) <= 1:\n",
    "        return True\n",
    "    elif s[0] != s[-1]:\n",
    "        return False\n",
    "    else:\n",
    "        return is_palindrome(s[1:-1])\n",
    "\n",
    "kata = input(\"Masukkan kata: \").lower()\n",
    "if is_palindrome(kata):\n",
    "    print(f\"'{kata}' adalah palindrome.\")\n",
    "else:\n",
    "    print(f\"'{kata}' bukan palindrome\")\n"
   ]
  },
  {
   "cell_type": "markdown",
   "metadata": {},
   "source": [
    "6. ENTROPY"
   ]
  },
  {
   "cell_type": "code",
   "execution_count": 4,
   "metadata": {},
   "outputs": [
    {
     "name": "stdout",
     "output_type": "stream",
     "text": [
      "Entropy = 1.0000\n"
     ]
    }
   ],
   "source": [
    "import math\n",
    "def entropy(m, n):\n",
    "    if m == 0 or n == 0:  \n",
    "        return 0\n",
    "    p_m = m / (m + n)\n",
    "    p_n = n / (m + n)\n",
    "    return -(p_m * math.log2(p_m) + p_n * math.log2(p_n))\n",
    "# Contoh penggunaan\n",
    "result = entropy(2, 2)\n",
    "print(f\"Entropy = {result:.4f}\")\n"
   ]
  },
  {
   "cell_type": "markdown",
   "metadata": {},
   "source": [
    "7. GINI"
   ]
  },
  {
   "cell_type": "code",
   "execution_count": 9,
   "metadata": {},
   "outputs": [
    {
     "name": "stdout",
     "output_type": "stream",
     "text": [
      "Gini Index = 0.5\n"
     ]
    }
   ],
   "source": [
    "def gini_index(m, n):\n",
    "    if m == 0 or n == 0:\n",
    "        return 0\n",
    "    p_m = m / (m + n)\n",
    "    p_n = n / (m + n)\n",
    "    return 1 - (p_m**2 + p_n**2)\n",
    "print(f\"Gini Index = {gini_index(2, 2)}\")\n"
   ]
  },
  {
   "cell_type": "markdown",
   "metadata": {},
   "source": [
    "8. CLASSIFICATION ERROR"
   ]
  },
  {
   "cell_type": "code",
   "execution_count": 3,
   "metadata": {},
   "outputs": [
    {
     "name": "stdout",
     "output_type": "stream",
     "text": [
      "Classification Error = 0.5\n"
     ]
    }
   ],
   "source": [
    "def classification_error(m, n):\n",
    "    if m == 0 or n == 0: \n",
    "        return 0\n",
    "    p_m = m / (m + n)\n",
    "    return 1 - max(p_m, 1 - p_m)\n",
    "\n",
    "print(f\"Classification Error = {classification_error(2, 2)}\")\n"
   ]
  }
 ],
 "metadata": {
  "kernelspec": {
   "display_name": "base",
   "language": "python",
   "name": "python3"
  },
  "language_info": {
   "codemirror_mode": {
    "name": "ipython",
    "version": 3
   },
   "file_extension": ".py",
   "mimetype": "text/x-python",
   "name": "python",
   "nbconvert_exporter": "python",
   "pygments_lexer": "ipython3",
   "version": "3.11.5"
  }
 },
 "nbformat": 4,
 "nbformat_minor": 2
}

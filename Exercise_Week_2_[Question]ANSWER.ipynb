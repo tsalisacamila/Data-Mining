{
  "cells": [
    {
      "cell_type": "markdown",
      "metadata": {
        "id": "AoYZgxl42T9R"
      },
      "source": [
        "## Week 2\n",
        "\n",
        "Please print your name and your NIM."
      ]
    },
    {
      "cell_type": "code",
      "execution_count": null,
      "metadata": {
        "colab": {
          "base_uri": "https://localhost:8080/"
        },
        "id": "qB4dI-wUN-iY",
        "outputId": "36b23741-e9ba-4e1e-c7a1-2e1297b7d6e6"
      },
      "outputs": [
        {
          "name": "stdout",
          "output_type": "stream",
          "text": [
            "Michelle Chandra - 0706022010019\n"
          ]
        }
      ],
      "source": [
        "# Tsalisa Camila Rahmania Putri - 0706022210055"
      ]
    },
    {
      "cell_type": "markdown",
      "metadata": {
        "id": "KvNKLkQs3TYR"
      },
      "source": [
        "## Pandas"
      ]
    },
    {
      "cell_type": "markdown",
      "metadata": {
        "id": "uh41N6Fk4JdO"
      },
      "source": [
        "Please import the necessary library here."
      ]
    },
    {
      "cell_type": "code",
      "execution_count": null,
      "metadata": {
        "id": "uuSnflSvM-Kv"
      },
      "outputs": [],
      "source": [
        "# Pandas\n"
      ]
    },
    {
      "cell_type": "markdown",
      "metadata": {
        "id": "hUDlryKi4hX1"
      },
      "source": [
        "<h1> Import Data"
      ]
    },
    {
      "cell_type": "markdown",
      "metadata": {
        "id": "_Useox1H5Gju"
      },
      "source": [
        "Please download the data from Elearn. <br>\n",
        "then input the data from:\n",
        "1. CSV File\n",
        "2. Excel File\n",
        "3. JSON File\n",
        "4. Text File, add header 'English' and 'France'\n",
        "5. Web Dataset - https://raw.githubusercontent.com/michellechandraa/TutorDataMining/refs/heads/main/menu.csv\n",
        "\n",
        "into the dataframe"
      ]
    },
    {
      "cell_type": "code",
      "execution_count": 76,
      "metadata": {
        "colab": {
          "base_uri": "https://localhost:8080/",
          "height": 206
        },
        "id": "LzFoxbpk4glS",
        "outputId": "ef16d4bb-37a5-4744-a008-3682d6d5c7b0"
      },
      "outputs": [
        {
          "name": "stdout",
          "output_type": "stream",
          "text": [
            "         Date   Time  Temperature (Celsius)  Ice Cream Sales\n",
            "0  2023-01-01  08:00                     18               20\n",
            "1  2023-01-01  08:05                     19               22\n",
            "2  2023-01-01  08:10                     20               25\n",
            "3  2023-01-01  08:15                     21               24\n",
            "4  2023-01-01  08:20                     22               26\n"
          ]
        }
      ],
      "source": [
        "import pandas as pd\n",
        "df = pd.read_csv('Ice Cream Sales and Temperature.csv')\n",
        "\n",
        "\n",
        "print(df.head())\n",
        "\n"
      ]
    },
    {
      "cell_type": "code",
      "execution_count": 13,
      "metadata": {
        "colab": {
          "base_uri": "https://localhost:8080/",
          "height": 206
        },
        "id": "fjdqLlE2OCAJ",
        "outputId": "f2743673-75e1-458a-b117-ee8f7d9d9bb8"
      },
      "outputs": [
        {
          "name": "stdout",
          "output_type": "stream",
          "text": [
            "      Student ID  Undergrad Degree  Undergrad Grade  MBA Grade  \\\n",
            "0              1          Business             68.4     90.200   \n",
            "1              2          Business             62.1     92.800   \n",
            "2              3  Computer Science             70.2     68.700   \n",
            "3              4       Engineering             75.1     80.700   \n",
            "4              5           Finance             60.9     74.900   \n",
            "...          ...               ...              ...        ...   \n",
            "1195        1196          Business             32.5     30.875   \n",
            "1196        1197  Computer Science             32.8     31.160   \n",
            "1197        1198       Engineering             33.1     31.445   \n",
            "1198        1199           Finance             33.4     31.730   \n",
            "1199        1200               Art              NaN      0.000   \n",
            "\n",
            "     Work Experience  Employability (Before)  Employability (After)  \\\n",
            "0                 No              252.000000                  276.0   \n",
            "1                 No              423.000000                  410.0   \n",
            "2                Yes              101.000000                  119.0   \n",
            "3                 No              288.000000                  334.0   \n",
            "4                 No              248.000000                  252.0   \n",
            "...              ...                     ...                    ...   \n",
            "1195             Yes              167.323980                  410.2   \n",
            "1196              No              167.238571                  413.3   \n",
            "1197              No              167.153163                  416.4   \n",
            "1198              No              167.067755                  419.5   \n",
            "1199              No              166.982347                  422.6   \n",
            "\n",
            "          Status  Annual Salary  \n",
            "0         Placed  111000.000000  \n",
            "1     Not Placed            NaN  \n",
            "2         Placed  107000.000000  \n",
            "3     Not Placed            NaN  \n",
            "4     Not Placed            NaN  \n",
            "...          ...            ...  \n",
            "1195      Placed  100500.000000  \n",
            "1196      Placed  117666.666667  \n",
            "1197  Not Placed            NaN  \n",
            "1198      Placed  100500.000000  \n",
            "1199  Not Placed            NaN  \n",
            "\n",
            "[1200 rows x 9 columns]\n"
          ]
        }
      ],
      "source": [
        "#2\n",
        "df = pd.read_excel('Maven Business School.xlsx')\n",
        "print(df)\n"
      ]
    },
    {
      "cell_type": "code",
      "execution_count": 14,
      "metadata": {
        "colab": {
          "base_uri": "https://localhost:8080/",
          "height": 206
        },
        "id": "23yPhoH7OC3Z",
        "outputId": "0856cea9-04ce-482c-9007-cc924fcbb1d5"
      },
      "outputs": [
        {
          "name": "stdout",
          "output_type": "stream",
          "text": [
            "                   album                                       lyrics_title  \\\n",
            "0    Certified Lover Boy                        Certified Lover Boy* Lyrics   \n",
            "1    Certified Lover Boy              Like I’m Supposed To/Do Things Lyrics   \n",
            "2    Certified Lover Boy                                  Not Around Lyrics   \n",
            "3    Certified Lover Boy                In the Cut (Ft. Roddy Ricch) Lyrics   \n",
            "4    Certified Lover Boy              Zodiac Sign (Ft. Jessie Reyez) Lyrics   \n",
            "..                   ...                                                ...   \n",
            "285     Unreleased Songs           Pop Style (Demo) (Ft. Kanye West) Lyrics   \n",
            "286     Unreleased Songs              Time Flies (Demo) (Ft. Future) Lyrics   \n",
            "287     Unreleased Songs  Walk It Talk It (Demo) by Quavo (Ft. Drake) Ly...   \n",
            "288     Unreleased Songs        God’s Plan (Demo) (Ft. Trippie Redd) Lyrics   \n",
            "289     Unreleased Songs          Real Bad Karma (Ft. Bryson Tiller) Lyrics   \n",
            "\n",
            "                                            lyrics_url  \\\n",
            "0    https://genius.com/Drake-certified-lover-boy-l...   \n",
            "1    https://genius.com/Drake-like-im-supposed-to-d...   \n",
            "2           https://genius.com/Drake-not-around-lyrics   \n",
            "3           https://genius.com/Drake-in-the-cut-lyrics   \n",
            "4          https://genius.com/Drake-zodiac-sign-lyrics   \n",
            "..                                                 ...   \n",
            "285     https://genius.com/Drake-pop-style-demo-lyrics   \n",
            "286    https://genius.com/Drake-time-flies-demo-lyrics   \n",
            "287  https://genius.com/Quavo-walk-it-talk-it-demo-...   \n",
            "288     https://genius.com/Drake-gods-plan-demo-lyrics   \n",
            "289     https://genius.com/Drake-real-bad-karma-lyrics   \n",
            "\n",
            "                                                lyrics track_views  \n",
            "0    Lyrics from CLB Merch\\n\\n[Verse]\\nPut my feeli...        8.7K  \n",
            "1    [Verse]\\nHands are tied\\nSomeone's in my ear f...       38.8K  \n",
            "2    [Intro]\\nYeah, we back\\nWassup ladies?\\nSwisha...      129.8K  \n",
            "3    [Intro: Drake]\\nAyy, yeah\\nPipe this shit up a...       72.1K  \n",
            "4    [Verse 1: Drake]\\nYou ask how many girls I bee...       54.8K  \n",
            "..                                                 ...         ...  \n",
            "285  Lyrics from cut studio recording\\n\\n[Verse 1: ...        None  \n",
            "286  Lyrics from Snippet\\n\\n[Chorus: Drake & Future...        None  \n",
            "287  [Intro: Quavo]\\nYeah, yeah\\n(Deko)\\nWoah, hold...        None  \n",
            "288  [Intro: Drake]\\nThey wishing, they wishing, th...        None  \n",
            "289  [Intro: Drake]\\n(Sonorous on the beat)\\nAnd I ...       50.6K  \n",
            "\n",
            "[290 rows x 5 columns]\n"
          ]
        }
      ],
      "source": [
        "# 3\n",
        "df = pd.read_json('drake_data.json')\n",
        "print(df)\n"
      ]
    },
    {
      "cell_type": "code",
      "execution_count": 79,
      "metadata": {
        "colab": {
          "base_uri": "https://localhost:8080/",
          "height": 362
        },
        "id": "AJWubbnC_HXR",
        "outputId": "6a58872f-1bf3-4cec-d10b-860402330212"
      },
      "outputs": [
        {
          "name": "stdout",
          "output_type": "stream",
          "text": [
            "\n",
            "Text Data:\n",
            "                                                  English  \\\n",
            "0                                                     Go.   \n",
            "1                                                    Run!   \n",
            "2                                                    Run!   \n",
            "3                                                    Wow!   \n",
            "4                                                   Fire!   \n",
            "...                                                   ...   \n",
            "135837  A carbon footprint is the amount of carbon dio...   \n",
            "135838  Death is something that we're often discourage...   \n",
            "135839  Since there are usually multiple websites on a...   \n",
            "135840  If someone who doesn't know your background sa...   \n",
            "135841  It may be impossible to get a completely error...   \n",
            "\n",
            "                                                   France  \n",
            "0                                                    Va !  \n",
            "1                                                 Cours !  \n",
            "2                                                Courez !  \n",
            "3                                              Ça alors !  \n",
            "4                                                Au feu !  \n",
            "...                                                   ...  \n",
            "135837  Une empreinte carbone est la somme de pollutio...  \n",
            "135838  La mort est une chose qu'on nous décourage sou...  \n",
            "135839  Puisqu'il y a de multiples sites web sur chaqu...  \n",
            "135840  Si quelqu'un qui ne connaît pas vos antécédent...  \n",
            "135841  Il est peut-être impossible d'obtenir un Corpu...  \n",
            "\n",
            "[135842 rows x 2 columns]\n"
          ]
        }
      ],
      "source": [
        "# 4\n",
        "df = pd.read_csv('eng-fra.txt', sep='\\t', header=None, names=[\"English\", \"France\"])\n",
        "print(\"\\nText Data:\")\n",
        "print(df)"
      ]
    },
    {
      "cell_type": "code",
      "execution_count": 16,
      "metadata": {
        "colab": {
          "base_uri": "https://localhost:8080/",
          "height": 461
        },
        "id": "snnE_dmFBmFG",
        "outputId": "cde0bba8-bf54-407e-925c-43431ddbdf02"
      },
      "outputs": [
        {
          "name": "stdout",
          "output_type": "stream",
          "text": [
            "               Category                                               Item  \\\n",
            "0             Breakfast                                       Egg McMuffin   \n",
            "1             Breakfast                                  Egg White Delight   \n",
            "2             Breakfast                                   Sausage McMuffin   \n",
            "3             Breakfast                          Sausage McMuffin with Egg   \n",
            "4             Breakfast                   Sausage McMuffin with Egg Whites   \n",
            "..                  ...                                                ...   \n",
            "255  Smoothies & Shakes                 McFlurry with Oreo Cookies (Small)   \n",
            "256  Smoothies & Shakes                McFlurry with Oreo Cookies (Medium)   \n",
            "257  Smoothies & Shakes                 McFlurry with Oreo Cookies (Snack)   \n",
            "258  Smoothies & Shakes  McFlurry with Reese's Peanut Butter Cups (Medium)   \n",
            "259  Smoothies & Shakes   McFlurry with Reese's Peanut Butter Cups (Snack)   \n",
            "\n",
            "        Serving Size  Calories  Calories from Fat  Total Fat  \\\n",
            "0     4.8 oz (136 g)       300                120       13.0   \n",
            "1     4.8 oz (135 g)       250                 70        8.0   \n",
            "2     3.9 oz (111 g)       370                200       23.0   \n",
            "3     5.7 oz (161 g)       450                250       28.0   \n",
            "4     5.7 oz (161 g)       400                210       23.0   \n",
            "..               ...       ...                ...        ...   \n",
            "255  10.1 oz (285 g)       510                150       17.0   \n",
            "256  13.4 oz (381 g)       690                200       23.0   \n",
            "257   6.7 oz (190 g)       340                100       11.0   \n",
            "258  14.2 oz (403 g)       810                290       32.0   \n",
            "259   7.1 oz (202 g)       410                150       16.0   \n",
            "\n",
            "     Total Fat (% Daily Value)  Saturated Fat  Saturated Fat (% Daily Value)  \\\n",
            "0                           20            5.0                             25   \n",
            "1                           12            3.0                             15   \n",
            "2                           35            8.0                             42   \n",
            "3                           43           10.0                             52   \n",
            "4                           35            8.0                             42   \n",
            "..                         ...            ...                            ...   \n",
            "255                         26            9.0                             44   \n",
            "256                         35           12.0                             58   \n",
            "257                         17            6.0                             29   \n",
            "258                         50           15.0                             76   \n",
            "259                         25            8.0                             38   \n",
            "\n",
            "     Trans Fat  ...  Carbohydrates  Carbohydrates (% Daily Value)  \\\n",
            "0          0.0  ...             31                             10   \n",
            "1          0.0  ...             30                             10   \n",
            "2          0.0  ...             29                             10   \n",
            "3          0.0  ...             30                             10   \n",
            "4          0.0  ...             30                             10   \n",
            "..         ...  ...            ...                            ...   \n",
            "255        0.5  ...             80                             27   \n",
            "256        1.0  ...            106                             35   \n",
            "257        0.0  ...             53                             18   \n",
            "258        1.0  ...            114                             38   \n",
            "259        0.0  ...             57                             19   \n",
            "\n",
            "     Dietary Fiber  Dietary Fiber (% Daily Value)  Sugars  Protein  \\\n",
            "0                4                             17       3       17   \n",
            "1                4                             17       3       18   \n",
            "2                4                             17       2       14   \n",
            "3                4                             17       2       21   \n",
            "4                4                             17       2       21   \n",
            "..             ...                            ...     ...      ...   \n",
            "255              1                              4      64       12   \n",
            "256              1                              5      85       15   \n",
            "257              1                              2      43        8   \n",
            "258              2                              9     103       21   \n",
            "259              1                              5      51       10   \n",
            "\n",
            "     Vitamin A (% Daily Value)  Vitamin C (% Daily Value)  \\\n",
            "0                           10                          0   \n",
            "1                            6                          0   \n",
            "2                            8                          0   \n",
            "3                           15                          0   \n",
            "4                            6                          0   \n",
            "..                         ...                        ...   \n",
            "255                         15                          0   \n",
            "256                         20                          0   \n",
            "257                         10                          0   \n",
            "258                         20                          0   \n",
            "259                         10                          0   \n",
            "\n",
            "     Calcium (% Daily Value)  Iron (% Daily Value)  \n",
            "0                         25                    15  \n",
            "1                         25                     8  \n",
            "2                         25                    10  \n",
            "3                         30                    15  \n",
            "4                         25                    10  \n",
            "..                       ...                   ...  \n",
            "255                       40                     8  \n",
            "256                       50                    10  \n",
            "257                       25                     6  \n",
            "258                       60                     6  \n",
            "259                       30                     4  \n",
            "\n",
            "[260 rows x 24 columns]\n"
          ]
        }
      ],
      "source": [
        "# 5\n",
        "df = pd.read_csv('https://raw.githubusercontent.com/michellechandraa/TutorDataMining/refs/heads/main/menu.csv')\n",
        "print(df)"
      ]
    },
    {
      "cell_type": "markdown",
      "metadata": {
        "id": "6em5cLipSv5O"
      },
      "source": [
        "6. Try yourself\n",
        "- Download the MLBB HERO DATASET dataset from Kaggle\n",
        "- Convert the .xlsx to .csv format (you can use python or manually from numbers)\n",
        "- Upload the converted dataset to your own github <br>\n",
        "a. Import the dataset into dataframe <br>\n",
        "b. show 10 random data from dataset <br>\n",
        "c. Find out if there are any missing values in each column <br>\n",
        "d. drop the unnecessary column <br>\n",
        "e. show the roles of the hero in that dataset <br>\n",
        "f. show the most difficult hero to use<br>\n",
        "g. find out which ones has the average higher physical_atk between Fighters and Tank<br>\n",
        "h. Make a visualization showing percentages of heroes based on their role\n",
        "\n"
      ]
    },
    {
      "cell_type": "code",
      "execution_count": 20,
      "metadata": {},
      "outputs": [],
      "source": [
        "import pandas as pd\n",
        "\n",
        "# Baca file .xlsx\n",
        "df = pd.read_excel('mlbb_hero.xlsx')\n",
        "\n",
        "# Simpan sebagai .csv\n",
        "df.to_csv('mlbb_hero.csv', index=False)\n"
      ]
    },
    {
      "cell_type": "code",
      "execution_count": 21,
      "metadata": {
        "colab": {
          "base_uri": "https://localhost:8080/",
          "height": 243
        },
        "id": "zX7KfMGCXjGE",
        "outputId": "9f1ffb14-220f-44f1-956e-38d1f2360d6b"
      },
      "outputs": [
        {
          "name": "stdout",
          "output_type": "stream",
          "text": [
            "  hero_name      role  defense_overall  offense_overall  skill_effect_overall  \\\n",
            "0   Terizla   fighter              7.0              8.0                   6.0   \n",
            "1    Martis   fighter              6.0              8.0                   5.0   \n",
            "2     Grock      tank              8.0              5.0                   6.0   \n",
            "3  Carmilla   support              5.0              5.0                   9.0   \n",
            "4   Irithel  marksman              5.0              5.0                   8.0   \n",
            "\n",
            "   difficulty_overall  movement_spd  magic_defense  mana  hp_regen  \\\n",
            "0                 6.0           255             10   430        54   \n",
            "1                 5.0           260             10     0        35   \n",
            "2                 4.0           260             10   430        42   \n",
            "3                 5.0           255             10   430        39   \n",
            "4                 7.0           260             10   438        35   \n",
            "\n",
            "   physical_atk  physical_defense    hp  attack_speed  mana_regen  win_rate  \\\n",
            "0           129                19  2728          0.80        21.0     47.00   \n",
            "1           128                25  2738          0.86         0.0     45.00   \n",
            "2           135                21  2819          0.81        12.0     47.69   \n",
            "3           126                25  2528          0.91        16.0     53.76   \n",
            "4           118                17  2540          0.82        15.0     51.52   \n",
            "\n",
            "   pick_rate  ban_rate  release_year  \n",
            "0       0.15      0.02          2019  \n",
            "1       0.15      0.02          2018  \n",
            "2       0.14      0.02          2017  \n",
            "3       0.08      0.02          2020  \n",
            "4       0.38      0.03          2017  \n"
          ]
        }
      ],
      "source": [
        "# a\n",
        "import pandas as pd\n",
        "df = pd.read_csv('mlbb_hero.csv')\n",
        "print(df.head())\n",
        "\n"
      ]
    },
    {
      "cell_type": "code",
      "execution_count": 22,
      "metadata": {
        "colab": {
          "base_uri": "https://localhost:8080/",
          "height": 400
        },
        "id": "kkjiLjqMYDj_",
        "outputId": "9b929fca-73a5-4781-9182-cdf4765a5885"
      },
      "outputs": [
        {
          "name": "stdout",
          "output_type": "stream",
          "text": [
            "   hero_name      role  defense_overall  offense_overall  \\\n",
            "66    Claude  marksman              5.0              9.0   \n",
            "4    Irithel  marksman              5.0              5.0   \n",
            "43    Odette      mage              4.0              4.0   \n",
            "75   Jawhead   fighter              8.0              8.0   \n",
            "57    Uranus      tank              8.0              4.0   \n",
            "97     Fanny  assassin              6.0              9.0   \n",
            "8     Aurora      mage              4.0              5.0   \n",
            "89  Lancelot  assassin              6.0             10.0   \n",
            "84    Selena  assassin              5.0              6.0   \n",
            "92    Diggie   support              6.0              4.0   \n",
            "\n",
            "    skill_effect_overall  difficulty_overall  movement_spd  magic_defense  \\\n",
            "66                   5.0                 9.0           240             10   \n",
            "4                    8.0                 7.0           260             10   \n",
            "43                   9.0                 6.0           240             10   \n",
            "75                   7.0                 8.0           255             10   \n",
            "57                   8.0                 5.0           260             10   \n",
            "97                   5.0                10.0           265              0   \n",
            "8                    9.0                 6.0           240             10   \n",
            "89                   4.0                 7.0           260             10   \n",
            "84                   8.0                 7.0           240             10   \n",
            "92                   7.0                 3.0           250             10   \n",
            "\n",
            "    mana  hp_regen  physical_atk  physical_defense    hp  attack_speed  \\\n",
            "66   450        40            97                14  2370          0.82   \n",
            "4    438        35           118                17  2540          0.82   \n",
            "43   495        34           105                18  2491          0.80   \n",
            "75   430        39           119                24  2778          0.90   \n",
            "57   455        32           115                20  2489          0.83   \n",
            "97     0        33           126                19  2526          0.89   \n",
            "8    750        34           110                17  2501          0.80   \n",
            "89   450        35           124                16  2549          0.85   \n",
            "84   490        34           110                15  2401          0.80   \n",
            "92   490        36           115                16  2351          0.80   \n",
            "\n",
            "    mana_regen  win_rate  pick_rate  ban_rate  release_year  \n",
            "66        16.0     51.76       1.33      0.98          2018  \n",
            "4         15.0     51.52       0.38      0.03          2017  \n",
            "43        23.0     49.19       0.75      0.16          2017  \n",
            "75        16.0     50.91       1.59      1.72          2018  \n",
            "57        12.0     49.37       0.69      0.51          2018  \n",
            "97         0.0     49.05       0.92      4.48          2016  \n",
            "8         23.0     47.93       0.23      0.03          2017  \n",
            "89        16.0     46.71       1.42     24.88          2017  \n",
            "84        18.0     51.22       1.31      2.76          2018  \n",
            "92        20.0     53.93       0.25      3.84          2017  \n"
          ]
        }
      ],
      "source": [
        "# b\n",
        "print(df.sample(10))\n"
      ]
    },
    {
      "cell_type": "code",
      "execution_count": 23,
      "metadata": {
        "colab": {
          "base_uri": "https://localhost:8080/",
          "height": 711
        },
        "id": "9SHH-Y86YkNg",
        "outputId": "2a2b2dc0-3b08-471f-a593-92aba66647c3"
      },
      "outputs": [
        {
          "name": "stdout",
          "output_type": "stream",
          "text": [
            "hero_name               0\n",
            "role                    0\n",
            "defense_overall         0\n",
            "offense_overall         0\n",
            "skill_effect_overall    0\n",
            "difficulty_overall      0\n",
            "movement_spd            0\n",
            "magic_defense           0\n",
            "mana                    0\n",
            "hp_regen                0\n",
            "physical_atk            0\n",
            "physical_defense        0\n",
            "hp                      0\n",
            "attack_speed            0\n",
            "mana_regen              0\n",
            "win_rate                0\n",
            "pick_rate               0\n",
            "ban_rate                0\n",
            "release_year            0\n",
            "dtype: int64\n"
          ]
        }
      ],
      "source": [
        "# c\n",
        "missing_values = df.isnull().sum()\n",
        "print(missing_values)\n",
        "\n"
      ]
    },
    {
      "cell_type": "code",
      "execution_count": 75,
      "metadata": {
        "colab": {
          "base_uri": "https://localhost:8080/",
          "height": 226
        },
        "id": "QieeGXjTSYS6",
        "outputId": "89a600f5-fa40-4c84-a805-708f3f790c07"
      },
      "outputs": [],
      "source": [
        "# d\n",
        "df_cleaned = df.dropna()\n",
        "\n"
      ]
    },
    {
      "cell_type": "code",
      "execution_count": 26,
      "metadata": {
        "colab": {
          "base_uri": "https://localhost:8080/"
        },
        "id": "lrr1E2ZsT_To",
        "outputId": "005a986d-183f-4f84-b660-331a4e67f3f7"
      },
      "outputs": [
        {
          "name": "stdout",
          "output_type": "stream",
          "text": [
            "Roles of heroes in the dataset:\n",
            "['fighter' 'tank' 'support' 'marksman' 'mage' 'assassin']\n"
          ]
        }
      ],
      "source": [
        "# e\n",
        "roles = df['role'].unique()\n",
        "print(\"Roles of heroes in the dataset:\")\n",
        "print(roles)\n",
        "\n"
      ]
    },
    {
      "cell_type": "code",
      "execution_count": 37,
      "metadata": {
        "colab": {
          "base_uri": "https://localhost:8080/"
        },
        "id": "cb99QYcnZWAM",
        "outputId": "6a89eb8b-f9ff-4d46-a9fe-33f52f593d3b"
      },
      "outputs": [
        {
          "name": "stdout",
          "output_type": "stream",
          "text": [
            "\n",
            "Most difficult hero to use:\n",
            "   hero_name  difficulty_overall\n",
            "97     Fanny                10.0\n"
          ]
        }
      ],
      "source": [
        "# f\n",
        "difficulty_overall = 'difficulty_overall' \n",
        "\n",
        "if difficulty_overall in df.columns:  \n",
        "    max_difficulty = df[difficulty_overall].max()\n",
        "    most_difficult_hero = df[df[difficulty_overall] == max_difficulty]\n",
        "    \n",
        "    print(\"\\nMost difficult hero to use:\")\n",
        "    print(most_difficult_hero[['hero_name', difficulty_overall]]) \n",
        "else:\n",
        "    print(f\"\\nColumn '{difficulty_overall}' not found in the dataset.\")\n",
        "\n",
        "\n",
        "\n"
      ]
    },
    {
      "cell_type": "code",
      "execution_count": 73,
      "metadata": {
        "colab": {
          "base_uri": "https://localhost:8080/"
        },
        "id": "-Yr4xxUdoMsr",
        "outputId": "a9ba07e0-1775-41de-ea97-3850d99a6c43"
      },
      "outputs": [
        {
          "name": "stdout",
          "output_type": "stream",
          "text": [
            "Average physical attack for Fighters: nan\n",
            "Average physical attack for Tanks: nan\n",
            "Fighters and Tanks have the same average physical attack.\n"
          ]
        }
      ],
      "source": [
        "# g\n",
        "fighters = df[df['role'] == 'fighter']\n",
        "tanks = df[df['role'] == 'tank']\n",
        "\n",
        "avg_physical_atk_fighters = fighters['physical_atk'].mean()\n",
        "avg_physical_atk_tanks = tanks['physical_atk'].mean()\n",
        "\n",
        "print(f\"Average physical attack for Fighters: {avg_physical_atk_fighters:.8f}\")\n",
        "print(f\"Average physical attack for Tanks: {avg_physical_atk_tanks:.8f}\")\n",
        "\n",
        "if avg_physical_atk_fighters > avg_physical_atk_tanks:\n",
        "    print(\"Fighters have higher average physical attack than Tanks.\")\n",
        "elif avg_physical_atk_tanks > avg_physical_atk_fighters:\n",
        "    print(\"Tanks have higher average physical attack than Fighters.\")\n",
        "else:\n",
        "    print(\"Fighters and Tanks have the same average physical attack.\")\n",
        "\n",
        "# Average physical attack for Fighters: 119.96551724137932\n",
        "# Average physical attack for Tanks: 119.53333333333333\n",
        "# Fighters have higher average physical attack than Tanks."
      ]
    },
    {
      "cell_type": "code",
      "execution_count": 48,
      "metadata": {
        "colab": {
          "base_uri": "https://localhost:8080/",
          "height": 675
        },
        "id": "MamvJr7KoN62",
        "outputId": "50148ae6-f33e-4fd1-8f24-755281435f17"
      },
      "outputs": [
        {
          "name": "stdout",
          "output_type": "stream",
          "text": [
            "Role Percentages:\n",
            "fighter     28.155340\n",
            "mage        22.330097\n",
            "marksman    15.533981\n",
            "tank        14.563107\n",
            "assassin    11.650485\n",
            "support      7.766990\n",
            "Name: role, dtype: float64\n"
          ]
        },
        {
          "data": {
            "image/png": "[encoded data removed]",
            "text/plain": [
              "<Figure size 1000x600 with 1 Axes>"
            ]
          },
          "metadata": {},
          "output_type": "display_data"
        }
      ],
      "source": [
        "# h\n",
        "\n",
        "import matplotlib.pyplot as plt\n",
        "role_counts = df['role'].value_counts()\n",
        "\n",
        "role_percentages = (role_counts / role_counts.sum()) * 100\n",
        "print(\"Role Percentages:\")\n",
        "print(role_percentages)\n",
        "\n",
        "plt.figure(figsize=(10, 6))\n",
        "plt.pie(role_percentages, labels=role_percentages.index, autopct='%1.1f%%', startangle=140)\n",
        "plt.title('Distribution of Heroes by Role')\n",
        "plt.axis('equal') \n",
        "plt.show()\n"
      ]
    },
    {
      "cell_type": "markdown",
      "metadata": {
        "id": "DncRbVBdkKYF"
      },
      "source": [
        "7. I have a character with this specification:\n",
        "defense_overall 6.0<br>\n",
        "offense_overall 7.0<br>\n",
        "skill_effect_overall 4.0<br>\n",
        "difficulty_overall 3.0<br>\n",
        "movement_spd 250<br>\n",
        "magic_defense 9<br>\n",
        "mana 380<br>\n",
        "hp_regen 37<br>\n",
        "physical_atk 119<br>\n",
        "physical_defense 24<br>\n",
        "hp 2689<br>\n",
        "attack_speed 0.75<br>\n",
        "mana_regen 16.0<br>\n",
        "\n",
        "Please predict its role using DecisionTree classification algorithm <br>"
      ]
    },
    {
      "cell_type": "code",
      "execution_count": 74,
      "metadata": {
        "colab": {
          "base_uri": "https://localhost:8080/"
        },
        "id": "AR63DLKQo6Nf",
        "outputId": "0a104b13-dd93-4dbc-bff5-77892a27ba7f"
      },
      "outputs": [
        {
          "name": "stdout",
          "output_type": "stream",
          "text": [
            "Accuracy : 0.0\n",
            "Predicted role for the character : 1\n"
          ]
        },
        {
          "name": "stderr",
          "output_type": "stream",
          "text": [
            "c:\\Users\\Lenovo\\anaconda3\\Lib\\site-packages\\sklearn\\base.py:450: UserWarning: X does not have valid feature names, but DecisionTreeClassifier was fitted with feature names\n",
            "  warnings.warn(\n"
          ]
        }
      ],
      "source": [
        "# 7\n",
        "# import library\n",
        "from sklearn.tree import DecisionTreeClassifier\n",
        "from sklearn.model_selection import train_test_split\n",
        "from sklearn.preprocessing import LabelEncoder\n",
        "from sklearn.metrics import accuracy_score\n",
        "\n",
        "# Encode the 'role' column\n",
        "le = LabelEncoder()\n",
        "df['role_encoded'] = le.fit_transform(df['role'])\n",
        "\n",
        "# Separate features and target variable\n",
        "features = ['defense_overall', 'offense_overall', 'skill_effect_overall', 'difficulty_overall',\n",
        "            'movement_spd', 'magic_defense', 'mana', 'hp_regen', 'physical_atk', 'physical_defense',\n",
        "            'hp', 'attack_speed', 'mana_regen']\n",
        "\n",
        "X = df[features]\n",
        "y = df['role_encoded']\n",
        "\n",
        "# Split the data into training and testing sets\n",
        "X_train, X_test, y_train, y_test = train_test_split(X, y, test_size=0.2)\n",
        "\n",
        "# Create a Decision Tree Classifier\n",
        "clf = DecisionTreeClassifier()\n",
        "\n",
        "# Train the model\n",
        "clf.fit(X_train, y_train)\n",
        "\n",
        "# Make predictions on the test set\n",
        "y_pred = clf.predict(X_test)\n",
        "\n",
        "# Evaluate the model\n",
        "accuracy = accuracy_score(y_test, y_pred)\n",
        "\n",
        "# Predict the role for the given character\n",
        "new_character = [[6.0, 7.0, 4.0, 3.0, 250, 9, 380, 37, 119, 24, 2689, 0.75, 16.0]]\n",
        "predicted_role_encoded = clf.predict(new_character)\n",
        "\n",
        "# Get the predicted role\n",
        "predicted_role = le.inverse_transform(predicted_role_encoded)\n",
        "\n",
        "\n",
        "print(\"Accuracy : {}\".format(accuracy))\n",
        "print(\"Predicted role for the character : {}\".format(predicted_role[0]))"
      ]
    },
    {
      "cell_type": "markdown",
      "metadata": {
        "id": "8Wg4r64_kfZY"
      },
      "source": [
        "8. Why is CSV one of the most commonly used file formats in the field of data science? <br>"
      ]
    },
    {
      "cell_type": "code",
      "execution_count": null,
      "metadata": {
        "id": "tYf12GVMlhzJ"
      },
      "outputs": [],
      "source": [
        "# 8\n",
        "# it's more simple to use, also compatible with data processing library."
      ]
    }
  ],
  "metadata": {
    "colab": {
      "provenance": []
    },
    "kernelspec": {
      "display_name": "Python 3",
      "name": "python3"
    },
    "language_info": {
      "codemirror_mode": {
        "name": "ipython",
        "version": 3
      },
      "file_extension": ".py",
      "mimetype": "text/x-python",
      "name": "python",
      "nbconvert_exporter": "python",
      "pygments_lexer": "ipython3",
      "version": "3.11.5"
    }
  },
  "nbformat": 4,
  "nbformat_minor": 0
}
